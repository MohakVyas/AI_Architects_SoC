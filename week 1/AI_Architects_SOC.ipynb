{
 "cells": [
  {
   "cell_type": "code",
   "execution_count": 2,
   "metadata": {
    "id": "55hGCavduHi8",
    "tags": []
   },
   "outputs": [],
   "source": [
    "import tensorflow as tf\n",
    "from tensorflow.keras.preprocessing.text import Tokenizer\n",
    "import time"
   ]
  },
  {
   "cell_type": "code",
   "execution_count": 3,
   "metadata": {
    "id": "S9_FofTfDvTZ",
    "tags": []
   },
   "outputs": [
    {
     "name": "stdout",
     "output_type": "stream",
     "text": [
      "^C\n"
     ]
    }
   ],
   "source": [
    "!pip install gradio"
   ]
  },
  {
   "cell_type": "code",
   "execution_count": 4,
   "metadata": {
    "id": "s_wb5YUDuSg3",
    "tags": []
   },
   "outputs": [],
   "source": [
    "tokenizer = Tokenizer()"
   ]
  },
  {
   "cell_type": "code",
   "execution_count": 8,
   "metadata": {
    "id": "WY3037Jvtpdo",
    "tags": []
   },
   "outputs": [],
   "source": [
    "path = 'data.txt'\n",
    "with open(path, 'r', encoding='utf-8') as file:\n",
    "    text = file.read()\n",
    "\n",
    "tokenizer.fit_on_texts([text])"
   ]
  },
  {
   "cell_type": "code",
   "execution_count": 9,
   "metadata": {
    "id": "rSpx2EFFvBmG",
    "tags": []
   },
   "outputs": [
    {
     "data": {
      "text/plain": [
       "{'the': 1,\n",
       " 'i': 2,\n",
       " 'of': 3,\n",
       " 'to': 4,\n",
       " 'a': 5,\n",
       " 'and': 6,\n",
       " 'it': 7,\n",
       " 'he': 8,\n",
       " 'was': 9,\n",
       " 'his': 10,\n",
       " 'that': 11,\n",
       " 'had': 12,\n",
       " 'my': 13,\n",
       " 'in': 14,\n",
       " 'me': 15,\n",
       " 'him': 16,\n",
       " 'with': 17,\n",
       " 'on': 18,\n",
       " 'have': 19,\n",
       " 'she': 20,\n",
       " 'you': 21,\n",
       " 'as': 22,\n",
       " 'but': 23,\n",
       " 'one': 24,\n",
       " 'mrs': 25,\n",
       " 'at': 26,\n",
       " 'up': 27,\n",
       " 'her': 28,\n",
       " 'been': 29,\n",
       " 'not': 30,\n",
       " 'for': 31,\n",
       " 'so': 32,\n",
       " 'by': 33,\n",
       " 'stroud': 34,\n",
       " 'gisburn': 35,\n",
       " 'when': 36,\n",
       " 'said': 37,\n",
       " 'all': 38,\n",
       " 'only': 39,\n",
       " 'if': 40,\n",
       " 'just': 41,\n",
       " 'an': 42,\n",
       " 'say': 43,\n",
       " 'out': 44,\n",
       " 'see': 45,\n",
       " 'what': 46,\n",
       " 'picture': 47,\n",
       " 'be': 48,\n",
       " 'about': 49,\n",
       " 'or': 50,\n",
       " 'no': 51,\n",
       " 'painting': 52,\n",
       " 'himself': 53,\n",
       " 'would': 54,\n",
       " 'is': 55,\n",
       " 'they': 56,\n",
       " 'were': 57,\n",
       " 'through': 58,\n",
       " 'down': 59,\n",
       " 'know': 60,\n",
       " 'there': 61,\n",
       " 'thought': 62,\n",
       " 'jack': 63,\n",
       " 'eyes': 64,\n",
       " 'like': 65,\n",
       " \"didn't\": 66,\n",
       " \"couldn't\": 67,\n",
       " 'rickham': 68,\n",
       " 'who': 69,\n",
       " 'again': 70,\n",
       " 'felt': 71,\n",
       " 'poor': 72,\n",
       " 'own': 73,\n",
       " 'such': 74,\n",
       " \"jack's\": 75,\n",
       " 'because': 76,\n",
       " 'back': 77,\n",
       " 'put': 78,\n",
       " 'from': 79,\n",
       " 'now': 80,\n",
       " 'oh': 81,\n",
       " 'knew': 82,\n",
       " 'always': 83,\n",
       " 'rather': 84,\n",
       " 'last': 85,\n",
       " 'course': 86,\n",
       " \"don't\": 87,\n",
       " 'well': 88,\n",
       " 'fact': 89,\n",
       " 'little': 90,\n",
       " 'given': 91,\n",
       " 'too': 92,\n",
       " 'into': 93,\n",
       " 'between': 94,\n",
       " 'their': 95,\n",
       " 'could': 96,\n",
       " 'pictures': 97,\n",
       " 'first': 98,\n",
       " 'room': 99,\n",
       " 'work': 100,\n",
       " 'painted': 101,\n",
       " 'how': 102,\n",
       " 'paint': 103,\n",
       " 'never': 104,\n",
       " 'told': 105,\n",
       " 'donkey': 106,\n",
       " 'thing': 107,\n",
       " 'good': 108,\n",
       " 'enough': 109,\n",
       " 'can': 110,\n",
       " \"it's\": 111,\n",
       " \"gisburn's\": 112,\n",
       " 'face': 113,\n",
       " 'till': 114,\n",
       " 'why': 115,\n",
       " 'after': 116,\n",
       " 'house': 117,\n",
       " 'note': 118,\n",
       " 'under': 119,\n",
       " 'turned': 120,\n",
       " 'looked': 121,\n",
       " 'portrait': 122,\n",
       " 'yes': 123,\n",
       " 'ever': 124,\n",
       " 'more': 125,\n",
       " 'saw': 126,\n",
       " 'then': 127,\n",
       " 'dead': 128,\n",
       " 'watching': 129,\n",
       " 'hear': 130,\n",
       " 'women': 131,\n",
       " 'think': 132,\n",
       " 'its': 133,\n",
       " 'croft': 134,\n",
       " 'even': 135,\n",
       " 'made': 136,\n",
       " 'showy': 137,\n",
       " 'being': 138,\n",
       " 'went': 139,\n",
       " 'wife': 140,\n",
       " 'might': 141,\n",
       " 'hand': 142,\n",
       " 'interesting': 143,\n",
       " 'life': 144,\n",
       " 'way': 145,\n",
       " 'myself': 146,\n",
       " 'this': 147,\n",
       " 'get': 148,\n",
       " 'laid': 149,\n",
       " 'them': 150,\n",
       " 'dear': 151,\n",
       " 'grindle': 152,\n",
       " 'man': 153,\n",
       " 'sent': 154,\n",
       " 'where': 155,\n",
       " 'head': 156,\n",
       " 'looking': 157,\n",
       " 'moved': 158,\n",
       " 'arm': 159,\n",
       " 'let': 160,\n",
       " 'half': 161,\n",
       " 'some': 162,\n",
       " 'began': 163,\n",
       " 'still': 164,\n",
       " 'end': 165,\n",
       " 'once': 166,\n",
       " 'above': 167,\n",
       " 'any': 168,\n",
       " 'sketch': 169,\n",
       " 'behind': 170,\n",
       " 'done': 171,\n",
       " 'near': 172,\n",
       " 'tell': 173,\n",
       " 'off': 174,\n",
       " 'though': 175,\n",
       " 'surprise': 176,\n",
       " 'glory': 177,\n",
       " 'married': 178,\n",
       " 'riviera': 179,\n",
       " 'called': 180,\n",
       " 'lips': 181,\n",
       " 'before': 182,\n",
       " 'look': 183,\n",
       " 'should': 184,\n",
       " 'among': 185,\n",
       " 'heard': 186,\n",
       " 'honour': 187,\n",
       " 'handsome': 188,\n",
       " 'those': 189,\n",
       " 'years': 190,\n",
       " 'suddenly': 191,\n",
       " 'wonder': 192,\n",
       " 'really': 193,\n",
       " 'sitters': 194,\n",
       " 'taken': 195,\n",
       " 'since': 196,\n",
       " 'want': 197,\n",
       " 'go': 198,\n",
       " 'miss': 199,\n",
       " 'easel': 200,\n",
       " 'having': 201,\n",
       " 'day': 202,\n",
       " 'found': 203,\n",
       " 'beneath': 204,\n",
       " 'point': 205,\n",
       " 'art': 206,\n",
       " 'delicate': 207,\n",
       " 'people': 208,\n",
       " 'must': 209,\n",
       " 'over': 210,\n",
       " 'every': 211,\n",
       " 'things': 212,\n",
       " 'time': 213,\n",
       " 'seemed': 214,\n",
       " 'chucked': 215,\n",
       " 'rose': 216,\n",
       " 'glanced': 217,\n",
       " 'drawing': 218,\n",
       " 'rooms': 219,\n",
       " 'curtains': 220,\n",
       " 'modesty': 221,\n",
       " 'away': 222,\n",
       " 'your': 223,\n",
       " 'chair': 224,\n",
       " 'come': 225,\n",
       " 'laugh': 226,\n",
       " 'pushed': 227,\n",
       " 'here': 228,\n",
       " 'manage': 229,\n",
       " 'piece': 230,\n",
       " \"wouldn't\": 231,\n",
       " 'light': 232,\n",
       " 'old': 233,\n",
       " 'herself': 234,\n",
       " 'stood': 235,\n",
       " 'smile': 236,\n",
       " 'mine': 237,\n",
       " 'kind': 238,\n",
       " 'without': 239,\n",
       " 'plain': 240,\n",
       " 'jove': 241,\n",
       " 'foundations': 242,\n",
       " 'did': 243,\n",
       " 'ah': 244,\n",
       " \"she's\": 245,\n",
       " 'history': 246,\n",
       " 'happened': 247,\n",
       " 'are': 248,\n",
       " 'got': 249,\n",
       " 'left': 250,\n",
       " 'do': 251,\n",
       " 'secret': 252,\n",
       " 'stroke': 253,\n",
       " 'question': 254,\n",
       " 'fellow': 255,\n",
       " 'great': 256,\n",
       " 'height': 257,\n",
       " 'dropped': 258,\n",
       " 'rich': 259,\n",
       " 'thwing': 260,\n",
       " 'abdication': 261,\n",
       " 'mr': 262,\n",
       " 'word': 263,\n",
       " 'vista': 264,\n",
       " 'show': 265,\n",
       " 'tears': 266,\n",
       " 'able': 267,\n",
       " 'jealousy': 268,\n",
       " 'vindicated': 269,\n",
       " 'brought': 270,\n",
       " 'resolve': 271,\n",
       " 'died': 272,\n",
       " 'later': 273,\n",
       " 'dragged': 274,\n",
       " 'liked': 275,\n",
       " 'hard': 276,\n",
       " 'failed': 277,\n",
       " 'lift': 278,\n",
       " 'brush': 279,\n",
       " 'monte': 280,\n",
       " 'carlo': 281,\n",
       " 'caught': 282,\n",
       " 'next': 283,\n",
       " 'hostess': 284,\n",
       " 'husband': 285,\n",
       " 'satisfaction': 286,\n",
       " 'most': 287,\n",
       " 'objects': 288,\n",
       " 'eighteenth': 289,\n",
       " 'century': 290,\n",
       " 'beauty': 291,\n",
       " 'table': 292,\n",
       " 'added': 293,\n",
       " 'set': 294,\n",
       " 'struck': 295,\n",
       " 'tone': 296,\n",
       " 'seen': 297,\n",
       " 'became': 298,\n",
       " 'fond': 299,\n",
       " 'absurdity': 300,\n",
       " 'wincing': 301,\n",
       " 'object': 302,\n",
       " \"i've\": 303,\n",
       " 'victor': 304,\n",
       " 'terrace': 305,\n",
       " 'moment': 306,\n",
       " 'dubarry': 307,\n",
       " 'display': 308,\n",
       " 'give': 309,\n",
       " 'has': 310,\n",
       " 'asked': 311,\n",
       " 'humoured': 312,\n",
       " \"doesn't\": 313,\n",
       " 'quite': 314,\n",
       " 'simply': 315,\n",
       " 'white': 316,\n",
       " 'pale': 317,\n",
       " 'ridiculous': 318,\n",
       " 'says': 319,\n",
       " \"he's\": 320,\n",
       " 'curiosity': 321,\n",
       " 'tried': 322,\n",
       " 'followed': 323,\n",
       " 'hung': 324,\n",
       " 'frame': 325,\n",
       " 'past': 326,\n",
       " 'stand': 327,\n",
       " 'mantel': 328,\n",
       " 'stay': 329,\n",
       " 'place': 330,\n",
       " 'placed': 331,\n",
       " 'better': 332,\n",
       " 'yet': 333,\n",
       " 'grew': 334,\n",
       " 'tricks': 335,\n",
       " 'which': 336,\n",
       " 'attention': 337,\n",
       " 'degree': 338,\n",
       " 'met': 339,\n",
       " 'woman': 340,\n",
       " 'tired': 341,\n",
       " 'pride': 342,\n",
       " 'other': 343,\n",
       " 'destroyed': 344,\n",
       " 'brown': 345,\n",
       " 'cheeks': 346,\n",
       " 'confident': 347,\n",
       " 'quality': 348,\n",
       " 'than': 349,\n",
       " 'wanted': 350,\n",
       " 'rest': 351,\n",
       " 'spite': 352,\n",
       " 'longed': 353,\n",
       " 'cry': 354,\n",
       " 'dissatisfied': 355,\n",
       " 'unexpected': 356,\n",
       " 'posing': 357,\n",
       " 'dabble': 358,\n",
       " 'colour': 359,\n",
       " \"i'd\": 360,\n",
       " 'anything': 361,\n",
       " 'else': 362,\n",
       " 'instinctively': 363,\n",
       " 'wall': 364,\n",
       " 'close': 365,\n",
       " 'everlasting': 366,\n",
       " 'answered': 367,\n",
       " 'strouds': 368,\n",
       " 'much': 369,\n",
       " 'deprecating': 370,\n",
       " 'idea': 371,\n",
       " 'fashionable': 372,\n",
       " 'painter': 373,\n",
       " 'public': 374,\n",
       " 'believed': 375,\n",
       " 'bear': 376,\n",
       " 'days': 377,\n",
       " 'groping': 378,\n",
       " 'whole': 379,\n",
       " 'irony': 380,\n",
       " 'laughed': 381,\n",
       " 'threw': 382,\n",
       " 'cured': 383,\n",
       " 'reason': 384,\n",
       " 'understand': 385,\n",
       " 'us': 386,\n",
       " 'deep': 387,\n",
       " 'happen': 388,\n",
       " 'remember': 389,\n",
       " \"stroud's\": 390,\n",
       " 'stream': 391,\n",
       " 'failure': 392,\n",
       " 'current': 393,\n",
       " 'getting': 394,\n",
       " 'alone': 395,\n",
       " 'traps': 396,\n",
       " 'twenty': 397,\n",
       " 'heart': 398,\n",
       " 'glad': 399,\n",
       " \"'\": 400,\n",
       " 'beard': 401,\n",
       " 'covered': 402,\n",
       " 'lay': 403,\n",
       " 'alive': 404,\n",
       " 'late': 405,\n",
       " \"he'd\": 406,\n",
       " 'cheap': 407,\n",
       " 'genius': 408,\n",
       " 'widow': 409,\n",
       " 'established': 410,\n",
       " 'villa': 411,\n",
       " 'rome': 412,\n",
       " 'florence': 413,\n",
       " 'gideon': 414,\n",
       " 'chicago': 415,\n",
       " 'sitter': 416,\n",
       " 'deploring': 417,\n",
       " 'unaccountable': 418,\n",
       " 'going': 419,\n",
       " 'send': 420,\n",
       " 'value': 421,\n",
       " \"'way\": 422,\n",
       " 'loss': 423,\n",
       " 'arrt': 424,\n",
       " \"thwing's\": 425,\n",
       " 'multiplied': 426,\n",
       " 'rs': 427,\n",
       " 'reflected': 428,\n",
       " 'endless': 429,\n",
       " 'mirrors': 430,\n",
       " 'thwings': 431,\n",
       " 'mourned': 432,\n",
       " 'exquisite': 433,\n",
       " 'hermia': 434,\n",
       " 'grafton': 435,\n",
       " 'gallery': 436,\n",
       " 'stopped': 437,\n",
       " 'moon': 438,\n",
       " 'dancers': 439,\n",
       " 'we': 440,\n",
       " 'shall': 441,\n",
       " 'upon': 442,\n",
       " 'prism': 443,\n",
       " \"hermia's\": 444,\n",
       " 'equanimity': 445,\n",
       " 'fitting': 446,\n",
       " 'mourn': 447,\n",
       " 'sex': 448,\n",
       " 'fewer': 449,\n",
       " 'regrets': 450,\n",
       " 'trade': 451,\n",
       " 'hardly': 452,\n",
       " 'murmur': 453,\n",
       " 'professional': 454,\n",
       " 'perhaps': 455,\n",
       " 'craft': 456,\n",
       " 'claude': 457,\n",
       " 'nutley': 458,\n",
       " 'faith': 459,\n",
       " 'burlington': 460,\n",
       " 'very': 461,\n",
       " 'obituary': 462,\n",
       " 'articles': 463,\n",
       " 'stocked': 464,\n",
       " 'random': 465,\n",
       " 'technicalities': 466,\n",
       " \"won't\": 467,\n",
       " 'whom': 468,\n",
       " 'compared': 469,\n",
       " 'apparently': 470,\n",
       " 'irrevocable': 471,\n",
       " 'discussion': 472,\n",
       " 'gradually': 473,\n",
       " 'predicted': 474,\n",
       " 'price': 475,\n",
       " 'gisburns': 476,\n",
       " 'three': 477,\n",
       " 'few': 478,\n",
       " \"weeks'\": 479,\n",
       " 'idling': 480,\n",
       " 'occurred': 481,\n",
       " 'reflection': 482,\n",
       " 'tempting': 483,\n",
       " 'problem': 484,\n",
       " 'accuse': 485,\n",
       " 'easy': 486,\n",
       " 'fair': 487,\n",
       " 'denied': 488,\n",
       " 'solace': 489,\n",
       " 'saying': 490,\n",
       " 'existed': 491,\n",
       " 'nearly': 492,\n",
       " 'year': 493,\n",
       " 'ease': 494,\n",
       " 'prove': 495,\n",
       " 'equally': 496,\n",
       " 'contended': 497,\n",
       " 'led': 498,\n",
       " 'vocation': 499,\n",
       " 'appeared': 500,\n",
       " 'disdained': 501,\n",
       " 'find': 502,\n",
       " 'desultory': 503,\n",
       " 'lends': 504,\n",
       " 'itself': 505,\n",
       " 'purely': 506,\n",
       " 'academic': 507,\n",
       " 'speculations': 508,\n",
       " 'glimpse': 509,\n",
       " 'balustraded': 510,\n",
       " 'terraces': 511,\n",
       " 'pines': 512,\n",
       " 'borne': 513,\n",
       " 'thither': 514,\n",
       " 'couple': 515,\n",
       " 'tea': 516,\n",
       " 'palm': 517,\n",
       " 'trees': 518,\n",
       " 'welcome': 519,\n",
       " 'genial': 520,\n",
       " 'ensuing': 521,\n",
       " 'weeks': 522,\n",
       " 'claimed': 523,\n",
       " 'frequently': 524,\n",
       " 'fullest': 525,\n",
       " 'reassurance': 526,\n",
       " 'may': 527,\n",
       " 'pardoned': 528,\n",
       " 'bull': 529,\n",
       " 'surrounded': 530,\n",
       " 'fostered': 531,\n",
       " 'reared': 532,\n",
       " 'hot': 533,\n",
       " 'adulation': 534,\n",
       " 'therefore': 535,\n",
       " 'instructive': 536,\n",
       " 'effect': 537,\n",
       " 'deadening': 538,\n",
       " 'atmosphere': 539,\n",
       " 'mediocrity': 540,\n",
       " 'quote': 541,\n",
       " 'mentioned': 542,\n",
       " 'immediately': 543,\n",
       " 'perceptible': 544,\n",
       " 'extracting': 545,\n",
       " 'circumstance': 546,\n",
       " 'substantial': 547,\n",
       " 'rule': 548,\n",
       " 'scorn': 549,\n",
       " 'money': 550,\n",
       " 'elegant': 551,\n",
       " 'disdain': 552,\n",
       " \"wife's\": 553,\n",
       " 'big': 554,\n",
       " 'balance': 555,\n",
       " 'enabled': 556,\n",
       " 'appearance': 557,\n",
       " 'perfect': 558,\n",
       " 'breeding': 559,\n",
       " 'transmute': 560,\n",
       " 'luxury': 561,\n",
       " 'latter': 562,\n",
       " 'add': 563,\n",
       " 'remained': 564,\n",
       " 'relatively': 565,\n",
       " 'indifferent': 566,\n",
       " 'buying': 567,\n",
       " 'renaissance': 568,\n",
       " 'bronzes': 569,\n",
       " 'discrimination': 570,\n",
       " 'bespoke': 571,\n",
       " 'amplest': 572,\n",
       " 'resources': 573,\n",
       " \"money's\": 574,\n",
       " 'excuse': 575,\n",
       " 'circulation': 576,\n",
       " 'axioms': 577,\n",
       " 'across': 578,\n",
       " 'sevres': 579,\n",
       " 'silver': 580,\n",
       " 'exquisitely': 581,\n",
       " 'appointed': 582,\n",
       " 'luncheon': 583,\n",
       " 'run': 584,\n",
       " 'beaming': 585,\n",
       " 'enlightenment': 586,\n",
       " 'morbidly': 587,\n",
       " 'sensitive': 588,\n",
       " 'form': 589,\n",
       " 'fate': 590,\n",
       " 'extenuation': 591,\n",
       " 'resented': 592,\n",
       " 'often': 593,\n",
       " 'basking': 594,\n",
       " 'similar': 595,\n",
       " 'tributes': 596,\n",
       " 'conjugal': 597,\n",
       " 'robbed': 598,\n",
       " 'savour': 599,\n",
       " 'oddly': 600,\n",
       " 'apparent': 601,\n",
       " 'attitude': 602,\n",
       " 'garlands': 603,\n",
       " 'incense': 604,\n",
       " 'stuff': 605,\n",
       " 'protest': 606,\n",
       " 'strolled': 607,\n",
       " 'onto': 608,\n",
       " 'sunlit': 609,\n",
       " 'becoming': 610,\n",
       " 'hour': 611,\n",
       " 'younger': 612,\n",
       " 'artist': 613,\n",
       " 'formed': 614,\n",
       " \"friend's\": 615,\n",
       " 'feet': 616,\n",
       " 'wondered': 617,\n",
       " 'tinge': 618,\n",
       " 'underlay': 619,\n",
       " \"latter's\": 620,\n",
       " 'mysterious': 621,\n",
       " 'event': 622,\n",
       " 'begun': 623,\n",
       " 'grindles': 624,\n",
       " 'lingered': 625,\n",
       " 'lump': 626,\n",
       " 'sugar': 627,\n",
       " 'spaniel': 628,\n",
       " 'dining': 629,\n",
       " 'abruptly': 630,\n",
       " 'raised': 631,\n",
       " 'eyebrows': 632,\n",
       " 'hint': 633,\n",
       " 'enjoy': 634,\n",
       " 'spacious': 635,\n",
       " 'panelled': 636,\n",
       " 'famille': 637,\n",
       " 'verte': 638,\n",
       " 'vases': 639,\n",
       " 'repeating': 640,\n",
       " 'tones': 641,\n",
       " 'damask': 642,\n",
       " 'pastels': 643,\n",
       " 'faded': 644,\n",
       " 'frames': 645,\n",
       " \"haven't\": 646,\n",
       " 'single': 647,\n",
       " 'slight': 648,\n",
       " 'shade': 649,\n",
       " 'constraint': 650,\n",
       " 'crossed': 651,\n",
       " 'open': 652,\n",
       " 'countenance': 653,\n",
       " \"they're\": 654,\n",
       " 'fit': 655,\n",
       " 'except': 656,\n",
       " 'keep': 657,\n",
       " 'upstairs': 658,\n",
       " 'growing': 659,\n",
       " 'bean': 660,\n",
       " 'stalk': 661,\n",
       " 'persuasively': 662,\n",
       " 'almost': 663,\n",
       " 'timorously': 664,\n",
       " 'lounging': 665,\n",
       " 'hooded': 666,\n",
       " 'lit': 667,\n",
       " 'cigar': 668,\n",
       " 'drawn': 669,\n",
       " 'russian': 670,\n",
       " \"deerhound's\": 671,\n",
       " 'knees': 672,\n",
       " 'while': 673,\n",
       " 'hide': 674,\n",
       " 'nervousness': 675,\n",
       " 'marble': 676,\n",
       " 'emperors': 677,\n",
       " 'hall': 678,\n",
       " 'wide': 679,\n",
       " 'stairs': 680,\n",
       " 'terra': 681,\n",
       " 'cotta': 682,\n",
       " 'nymphs': 683,\n",
       " 'poised': 684,\n",
       " 'flowers': 685,\n",
       " 'each': 686,\n",
       " 'landing': 687,\n",
       " 'dimmest': 688,\n",
       " 'corner': 689,\n",
       " 'boudoir': 690,\n",
       " 'amid': 691,\n",
       " 'profusion': 692,\n",
       " 'distinguished': 693,\n",
       " 'familiar': 694,\n",
       " 'oval': 695,\n",
       " 'canvases': 696,\n",
       " 'inevitable': 697,\n",
       " 'garlanded': 698,\n",
       " 'mere': 699,\n",
       " 'outline': 700,\n",
       " 'drew': 701,\n",
       " 'window': 702,\n",
       " 'aside': 703,\n",
       " 'jardiniere': 704,\n",
       " 'full': 705,\n",
       " 'pink': 706,\n",
       " 'azaleas': 707,\n",
       " 'strain': 708,\n",
       " 'usually': 709,\n",
       " 'central': 710,\n",
       " 'panel': 711,\n",
       " 'yellow': 712,\n",
       " 'monumental': 713,\n",
       " 'took': 714,\n",
       " 'venetian': 715,\n",
       " 'modest': 716,\n",
       " 'accustomed': 717,\n",
       " 'characteristic': 718,\n",
       " 'qualities': 719,\n",
       " 'came': 720,\n",
       " 'hesitations': 721,\n",
       " 'disguised': 722,\n",
       " 'audacities': 723,\n",
       " 'prestidigitation': 724,\n",
       " 'consummate': 725,\n",
       " 'skill': 726,\n",
       " 'managed': 727,\n",
       " 'divert': 728,\n",
       " 'real': 729,\n",
       " 'business': 730,\n",
       " 'pretty': 731,\n",
       " 'irrelevance': 732,\n",
       " 'detail': 733,\n",
       " 'presenting': 734,\n",
       " 'neutral': 735,\n",
       " 'surface': 736,\n",
       " 'forming': 737,\n",
       " 'inevitably': 738,\n",
       " 'background': 739,\n",
       " 'lent': 740,\n",
       " 'unusual': 741,\n",
       " 'false': 742,\n",
       " 'virtuosity': 743,\n",
       " 'strongest': 744,\n",
       " 'admirers': 745,\n",
       " 'represented': 746,\n",
       " 'part': 747,\n",
       " 'swelling': 748,\n",
       " 'muscles': 749,\n",
       " 'congesting': 750,\n",
       " 'veins': 751,\n",
       " 'balancing': 752,\n",
       " 'straddling': 753,\n",
       " 'straining': 754,\n",
       " 'reminded': 755,\n",
       " 'circus': 756,\n",
       " \"clown's\": 757,\n",
       " 'ironic': 758,\n",
       " 'efforts': 759,\n",
       " 'feather': 760,\n",
       " 'short': 761,\n",
       " 'demand': 762,\n",
       " 'lovely': 763,\n",
       " 'strongly': 764,\n",
       " 'sweetly': 765,\n",
       " 'lose': 766,\n",
       " 'atom': 767,\n",
       " 'sweetness': 768,\n",
       " 'pardonable': 769,\n",
       " 'corrected': 770,\n",
       " 'count': 771,\n",
       " 'follow': 772,\n",
       " 'clue': 773,\n",
       " 'footstep': 774,\n",
       " 'threshold': 775,\n",
       " 'hands': 776,\n",
       " 'pockets': 777,\n",
       " 'velveteen': 778,\n",
       " 'coat': 779,\n",
       " 'thin': 780,\n",
       " 'waves': 781,\n",
       " 'hair': 782,\n",
       " 'forehead': 783,\n",
       " 'lean': 784,\n",
       " 'sunburnt': 785,\n",
       " 'furrowed': 786,\n",
       " 'lifted': 787,\n",
       " 'tips': 788,\n",
       " 'self': 789,\n",
       " 'moustache': 790,\n",
       " 'same': 791,\n",
       " 'cleverer': 792,\n",
       " 'deprecatingly': 793,\n",
       " 'travelled': 794,\n",
       " 'excusing': 795,\n",
       " 'shrugged': 796,\n",
       " 'shoulders': 797,\n",
       " 'smiling': 798,\n",
       " 'long': 799,\n",
       " 'ago': 800,\n",
       " 'lightly': 801,\n",
       " 'passing': 802,\n",
       " 'showed': 803,\n",
       " 'naive': 804,\n",
       " 'suburban': 805,\n",
       " 'bath': 806,\n",
       " 'speaking': 807,\n",
       " 'tubes': 808,\n",
       " 'dress': 809,\n",
       " 'closets': 810,\n",
       " 'trouser': 811,\n",
       " 'presses': 812,\n",
       " 'complex': 813,\n",
       " 'simplifications': 814,\n",
       " \"millionaire's\": 815,\n",
       " 'domestic': 816,\n",
       " 'economy': 817,\n",
       " 'whenever': 818,\n",
       " 'paid': 819,\n",
       " 'expected': 820,\n",
       " 'tribute': 821,\n",
       " 'throwing': 822,\n",
       " 'chest': 823,\n",
       " 'live': 824,\n",
       " 'foreseen': 825,\n",
       " 'charming': 826,\n",
       " 'disarming': 827,\n",
       " 'leisure': 828,\n",
       " 'diagnosis': 829,\n",
       " 'suffered': 830,\n",
       " 'check': 831,\n",
       " 'lair': 832,\n",
       " 'leading': 833,\n",
       " 'dark': 834,\n",
       " 'florid': 835,\n",
       " 'square': 836,\n",
       " 'leathery': 837,\n",
       " 'effects': 838,\n",
       " 'bric': 839,\n",
       " 'brac': 840,\n",
       " 'none': 841,\n",
       " 'air': 842,\n",
       " 'reproduction': 843,\n",
       " 'weekly': 844,\n",
       " 'least': 845,\n",
       " 'sign': 846,\n",
       " 'used': 847,\n",
       " 'studio': 848,\n",
       " 'home': 849,\n",
       " 'absolute': 850,\n",
       " 'finality': 851,\n",
       " 'break': 852,\n",
       " 'trace': 853,\n",
       " 'activity': 854,\n",
       " 'briefly': 855,\n",
       " 'water': 856,\n",
       " 'etching': 857,\n",
       " 'dim': 858,\n",
       " 'paled': 859,\n",
       " 'sunburn': 860,\n",
       " 'touched': 861,\n",
       " 'flash': 862,\n",
       " 'embarrassed': 863,\n",
       " 'discovery': 864,\n",
       " 'eye': 865,\n",
       " 'fell': 866,\n",
       " 'small': 867,\n",
       " 'breaking': 868,\n",
       " 'oak': 869,\n",
       " 'panelling': 870,\n",
       " 'standing': 871,\n",
       " 'rain': 872,\n",
       " 'cried': 873,\n",
       " 'silent': 874,\n",
       " 'breathing': 875,\n",
       " 'quickly': 876,\n",
       " 'dozen': 877,\n",
       " 'lines': 878,\n",
       " 'lucky': 879,\n",
       " 'chap': 880,\n",
       " 'slowly': 881,\n",
       " 'gave': 882,\n",
       " 'inflexible': 883,\n",
       " 'hermit': 884,\n",
       " 'amazement': 885,\n",
       " 'escape': 886,\n",
       " 'awful': 887,\n",
       " 'simpleton': 888,\n",
       " 'surest': 889,\n",
       " 'proclaiming': 890,\n",
       " 'greatness': 891,\n",
       " 'forcing': 892,\n",
       " 'purblind': 893,\n",
       " 'gloried': 894,\n",
       " 'varnishing': 895,\n",
       " 'fragment': 896,\n",
       " 'fragments': 897,\n",
       " 'curious': 898,\n",
       " 'voice': 899,\n",
       " 'insensible': 900,\n",
       " 'forced': 901,\n",
       " \"that's\": 902,\n",
       " 'idle': 903,\n",
       " 'companion': 904,\n",
       " 'serious': 905,\n",
       " 'desire': 906,\n",
       " 'wish': 907,\n",
       " \"you'd\": 908,\n",
       " 'twirling': 909,\n",
       " 'fingers': 910,\n",
       " 'cigarette': 911,\n",
       " 'forgotten': 912,\n",
       " 'toward': 913,\n",
       " 'suspected': 914,\n",
       " 'loathing': 915,\n",
       " 'gesture': 916,\n",
       " 'negatived': 917,\n",
       " 'shrug': 918,\n",
       " 'care': 919,\n",
       " 'straw': 920,\n",
       " 'tie': 921,\n",
       " 'slightly': 922,\n",
       " 'bitterness': 923,\n",
       " 'chairs': 924,\n",
       " 'forward': 925,\n",
       " 'make': 926,\n",
       " 'yourself': 927,\n",
       " 'comfortable': 928,\n",
       " 'cigars': 929,\n",
       " 'elbow': 930,\n",
       " 'continued': 931,\n",
       " 'wander': 932,\n",
       " 'stopping': 933,\n",
       " 'five': 934,\n",
       " 'minutes': 935,\n",
       " 'take': 936,\n",
       " 'longer': 937,\n",
       " 'surprised': 938,\n",
       " 'pleased': 939,\n",
       " 'gone': 940,\n",
       " 'echoed': 941,\n",
       " 'usual': 942,\n",
       " 'platitudes': 943,\n",
       " 'ourselves': 944,\n",
       " 'swept': 945,\n",
       " 'along': 946,\n",
       " 'high': 947,\n",
       " 'egregious': 948,\n",
       " 'mood': 949,\n",
       " 'lord': 950,\n",
       " 'forgive': 951,\n",
       " 'pathos': 952,\n",
       " 'career': 953,\n",
       " 'crowned': 954,\n",
       " 'meant': 955,\n",
       " 'nothing': 956,\n",
       " 'stammer': 957,\n",
       " 'something': 958,\n",
       " 'poverty': 959,\n",
       " 'prodigious': 960,\n",
       " 'phrase': 961,\n",
       " 'princely': 962,\n",
       " 'advance': 963,\n",
       " 'four': 964,\n",
       " 'hours': 965,\n",
       " 'disease': 966,\n",
       " 'preliminary': 967,\n",
       " 'destruction': 968,\n",
       " 'clear': 969,\n",
       " 'untouched': 970,\n",
       " 'twice': 971,\n",
       " 'insignificant': 972,\n",
       " 'dingy': 973,\n",
       " 'superb': 974,\n",
       " 'merely': 975,\n",
       " 'aesthetic': 976,\n",
       " \"'subject\": 977,\n",
       " 'strange': 978,\n",
       " 'likeness': 979,\n",
       " 'affect': 980,\n",
       " 'queerly': 981,\n",
       " 'blocked': 982,\n",
       " 'sensation': 983,\n",
       " 'working': 984,\n",
       " 'strokes': 985,\n",
       " 'wild': 986,\n",
       " 'nervous': 987,\n",
       " 'uncertain': 988,\n",
       " 'grayish': 989,\n",
       " 'amusing': 990,\n",
       " 'holding': 991,\n",
       " 'exasperated': 992,\n",
       " 'worth': 993,\n",
       " 'dashed': 994,\n",
       " 'canvas': 995,\n",
       " 'furiously': 996,\n",
       " 'bravura': 997,\n",
       " 'crumbled': 998,\n",
       " \"wasn't\": 999,\n",
       " 'bits': 1000,\n",
       " ...}"
      ]
     },
     "execution_count": 9,
     "metadata": {},
     "output_type": "execute_result"
    }
   ],
   "source": [
    "tokenizer.word_index"
   ]
  },
  {
   "cell_type": "code",
   "execution_count": 10,
   "metadata": {
    "id": "qTQBNETTvcN8",
    "tags": []
   },
   "outputs": [],
   "source": [
    "input_seq = []\n",
    "for sentence in text.split('\\n'):\n",
    "  tokenized_sentence = tokenizer.texts_to_sequences([sentence])[0]\n",
    "\n",
    "  for i in range(1, len(tokenized_sentence)):\n",
    "    input_seq.append(tokenized_sentence[:i+1])"
   ]
  },
  {
   "cell_type": "code",
   "execution_count": 11,
   "metadata": {
    "colab": {
     "base_uri": "https://localhost:8080/"
    },
    "id": "vK2--ecrvpXZ",
    "outputId": "1ce6a6cd-c1e5-4e69-f706-ee68e1c19066",
    "tags": []
   },
   "outputs": [
    {
     "data": {
      "text/plain": [
       "231"
      ]
     },
     "execution_count": 11,
     "metadata": {},
     "output_type": "execute_result"
    }
   ],
   "source": [
    "max_length = max([len(x) for x in input_seq])\n",
    "max_length"
   ]
  },
  {
   "cell_type": "code",
   "execution_count": 12,
   "metadata": {
    "id": "7OtmOmcywxRh",
    "tags": []
   },
   "outputs": [],
   "source": [
    "from tensorflow.keras.preprocessing.sequence import pad_sequences\n",
    "padded_input_seq = pad_sequences(input_seq, maxlen= max_length, padding='pre')"
   ]
  },
  {
   "cell_type": "code",
   "execution_count": 13,
   "metadata": {
    "id": "gLu7eoLKx0su",
    "tags": []
   },
   "outputs": [],
   "source": [
    "X = padded_input_seq[:,:-1]\n",
    "y = padded_input_seq[:,-1]\n"
   ]
  },
  {
   "cell_type": "code",
   "execution_count": 14,
   "metadata": {
    "colab": {
     "base_uri": "https://localhost:8080/"
    },
    "id": "f7A4agTNyPLt",
    "outputId": "b948496e-6844-4ebd-f2f9-d50741713f61",
    "tags": []
   },
   "outputs": [
    {
     "data": {
      "text/plain": [
       "(3666, 230)"
      ]
     },
     "execution_count": 14,
     "metadata": {},
     "output_type": "execute_result"
    }
   ],
   "source": [
    "X.shape"
   ]
  },
  {
   "cell_type": "code",
   "execution_count": 15,
   "metadata": {
    "colab": {
     "base_uri": "https://localhost:8080/"
    },
    "id": "1dpRD30Jyw8D",
    "outputId": "de50a28a-cbc8-4673-a6bc-c8fbf1d42675",
    "tags": []
   },
   "outputs": [
    {
     "data": {
      "text/plain": [
       "(3666,)"
      ]
     },
     "execution_count": 15,
     "metadata": {},
     "output_type": "execute_result"
    }
   ],
   "source": [
    "y.shape"
   ]
  },
  {
   "cell_type": "code",
   "execution_count": 16,
   "metadata": {
    "colab": {
     "base_uri": "https://localhost:8080/"
    },
    "id": "o64WRB11zFA7",
    "outputId": "623573e0-d3c6-4fd5-a8a2-99b3dda2c06f",
    "tags": []
   },
   "outputs": [
    {
     "data": {
      "text/plain": [
       "1098"
      ]
     },
     "execution_count": 16,
     "metadata": {},
     "output_type": "execute_result"
    }
   ],
   "source": [
    "len(tokenizer.word_index)"
   ]
  },
  {
   "cell_type": "code",
   "execution_count": 17,
   "metadata": {
    "id": "vkEfdazNyz86",
    "tags": []
   },
   "outputs": [],
   "source": [
    "from tensorflow.keras.utils import to_categorical\n",
    "y = to_categorical(y, num_classes=1099)"
   ]
  },
  {
   "cell_type": "code",
   "execution_count": 18,
   "metadata": {
    "colab": {
     "base_uri": "https://localhost:8080/"
    },
    "id": "tRYSihylzJbg",
    "outputId": "4233be8a-3777-4306-883f-902543ef0d97",
    "tags": []
   },
   "outputs": [
    {
     "data": {
      "text/plain": [
       "(3666, 1099)"
      ]
     },
     "execution_count": 18,
     "metadata": {},
     "output_type": "execute_result"
    }
   ],
   "source": [
    "y.shape"
   ]
  },
  {
   "cell_type": "code",
   "execution_count": 19,
   "metadata": {
    "id": "AP6ZIZvfzbzr",
    "tags": []
   },
   "outputs": [],
   "source": [
    "from tensorflow.keras.models import Sequential\n",
    "from tensorflow.keras.layers import Embedding, Dense, LSTM"
   ]
  },
  {
   "cell_type": "code",
   "execution_count": 20,
   "metadata": {
    "id": "xbbq772Hz4Wq",
    "tags": []
   },
   "outputs": [
    {
     "name": "stderr",
     "output_type": "stream",
     "text": [
      "D:\\Anaconda\\Lib\\site-packages\\keras\\src\\layers\\core\\embedding.py:90: UserWarning: Argument `input_length` is deprecated. Just remove it.\n",
      "  warnings.warn(\n"
     ]
    }
   ],
   "source": [
    "model = Sequential()\n",
    "model.add(Embedding(1099, 100, input_length = 230))\n",
    "model.add(LSTM(150))\n",
    "model.add(Dense(1099, activation='softmax'))"
   ]
  },
  {
   "cell_type": "code",
   "execution_count": 21,
   "metadata": {
    "id": "jUWoSxmaz-r6",
    "tags": []
   },
   "outputs": [],
   "source": [
    "model.compile(loss='categorical_crossentropy', optimizer='adam', metrics=['accuracy'])"
   ]
  },
  {
   "cell_type": "code",
   "execution_count": 22,
   "metadata": {
    "colab": {
     "base_uri": "https://localhost:8080/"
    },
    "id": "8vOlkTMx04uc",
    "outputId": "27dd5543-6092-4bf6-b7e8-947b809d2760",
    "tags": []
   },
   "outputs": [
    {
     "data": {
      "text/html": [
       "<pre style=\"white-space:pre;overflow-x:auto;line-height:normal;font-family:Menlo,'DejaVu Sans Mono',consolas,'Courier New',monospace\"><span style=\"font-weight: bold\">Model: \"sequential\"</span>\n",
       "</pre>\n"
      ],
      "text/plain": [
       "\u001b[1mModel: \"sequential\"\u001b[0m\n"
      ]
     },
     "metadata": {},
     "output_type": "display_data"
    },
    {
     "data": {
      "text/html": [
       "<pre style=\"white-space:pre;overflow-x:auto;line-height:normal;font-family:Menlo,'DejaVu Sans Mono',consolas,'Courier New',monospace\">┏━━━━━━━━━━━━━━━━━━━━━━━━━━━━━━━━━┳━━━━━━━━━━━━━━━━━━━━━━━━┳━━━━━━━━━━━━━━━┓\n",
       "┃<span style=\"font-weight: bold\"> Layer (type)                    </span>┃<span style=\"font-weight: bold\"> Output Shape           </span>┃<span style=\"font-weight: bold\">       Param # </span>┃\n",
       "┡━━━━━━━━━━━━━━━━━━━━━━━━━━━━━━━━━╇━━━━━━━━━━━━━━━━━━━━━━━━╇━━━━━━━━━━━━━━━┩\n",
       "│ embedding (<span style=\"color: #0087ff; text-decoration-color: #0087ff\">Embedding</span>)           │ ?                      │   <span style=\"color: #00af00; text-decoration-color: #00af00\">0</span> (unbuilt) │\n",
       "├─────────────────────────────────┼────────────────────────┼───────────────┤\n",
       "│ lstm (<span style=\"color: #0087ff; text-decoration-color: #0087ff\">LSTM</span>)                     │ ?                      │   <span style=\"color: #00af00; text-decoration-color: #00af00\">0</span> (unbuilt) │\n",
       "├─────────────────────────────────┼────────────────────────┼───────────────┤\n",
       "│ dense (<span style=\"color: #0087ff; text-decoration-color: #0087ff\">Dense</span>)                   │ ?                      │   <span style=\"color: #00af00; text-decoration-color: #00af00\">0</span> (unbuilt) │\n",
       "└─────────────────────────────────┴────────────────────────┴───────────────┘\n",
       "</pre>\n"
      ],
      "text/plain": [
       "┏━━━━━━━━━━━━━━━━━━━━━━━━━━━━━━━━━┳━━━━━━━━━━━━━━━━━━━━━━━━┳━━━━━━━━━━━━━━━┓\n",
       "┃\u001b[1m \u001b[0m\u001b[1mLayer (type)                   \u001b[0m\u001b[1m \u001b[0m┃\u001b[1m \u001b[0m\u001b[1mOutput Shape          \u001b[0m\u001b[1m \u001b[0m┃\u001b[1m \u001b[0m\u001b[1m      Param #\u001b[0m\u001b[1m \u001b[0m┃\n",
       "┡━━━━━━━━━━━━━━━━━━━━━━━━━━━━━━━━━╇━━━━━━━━━━━━━━━━━━━━━━━━╇━━━━━━━━━━━━━━━┩\n",
       "│ embedding (\u001b[38;5;33mEmbedding\u001b[0m)           │ ?                      │   \u001b[38;5;34m0\u001b[0m (unbuilt) │\n",
       "├─────────────────────────────────┼────────────────────────┼───────────────┤\n",
       "│ lstm (\u001b[38;5;33mLSTM\u001b[0m)                     │ ?                      │   \u001b[38;5;34m0\u001b[0m (unbuilt) │\n",
       "├─────────────────────────────────┼────────────────────────┼───────────────┤\n",
       "│ dense (\u001b[38;5;33mDense\u001b[0m)                   │ ?                      │   \u001b[38;5;34m0\u001b[0m (unbuilt) │\n",
       "└─────────────────────────────────┴────────────────────────┴───────────────┘\n"
      ]
     },
     "metadata": {},
     "output_type": "display_data"
    },
    {
     "data": {
      "text/html": [
       "<pre style=\"white-space:pre;overflow-x:auto;line-height:normal;font-family:Menlo,'DejaVu Sans Mono',consolas,'Courier New',monospace\"><span style=\"font-weight: bold\"> Total params: </span><span style=\"color: #00af00; text-decoration-color: #00af00\">0</span> (0.00 B)\n",
       "</pre>\n"
      ],
      "text/plain": [
       "\u001b[1m Total params: \u001b[0m\u001b[38;5;34m0\u001b[0m (0.00 B)\n"
      ]
     },
     "metadata": {},
     "output_type": "display_data"
    },
    {
     "data": {
      "text/html": [
       "<pre style=\"white-space:pre;overflow-x:auto;line-height:normal;font-family:Menlo,'DejaVu Sans Mono',consolas,'Courier New',monospace\"><span style=\"font-weight: bold\"> Trainable params: </span><span style=\"color: #00af00; text-decoration-color: #00af00\">0</span> (0.00 B)\n",
       "</pre>\n"
      ],
      "text/plain": [
       "\u001b[1m Trainable params: \u001b[0m\u001b[38;5;34m0\u001b[0m (0.00 B)\n"
      ]
     },
     "metadata": {},
     "output_type": "display_data"
    },
    {
     "data": {
      "text/html": [
       "<pre style=\"white-space:pre;overflow-x:auto;line-height:normal;font-family:Menlo,'DejaVu Sans Mono',consolas,'Courier New',monospace\"><span style=\"font-weight: bold\"> Non-trainable params: </span><span style=\"color: #00af00; text-decoration-color: #00af00\">0</span> (0.00 B)\n",
       "</pre>\n"
      ],
      "text/plain": [
       "\u001b[1m Non-trainable params: \u001b[0m\u001b[38;5;34m0\u001b[0m (0.00 B)\n"
      ]
     },
     "metadata": {},
     "output_type": "display_data"
    }
   ],
   "source": [
    "model.summary()"
   ]
  },
  {
   "cell_type": "code",
   "execution_count": 23,
   "metadata": {
    "colab": {
     "base_uri": "https://localhost:8080/"
    },
    "id": "PXTm2YjY05qx",
    "outputId": "0294aced-f29a-4b08-b67d-a6bdf556b6be",
    "tags": []
   },
   "outputs": [
    {
     "data": {
      "text/plain": [
       "array([[   0,    0,    0, ...,    0,    0,    2],\n",
       "       [   0,    0,    0, ...,    0,    2,   12],\n",
       "       [   0,    0,    0, ...,    2,   12,   83],\n",
       "       ...,\n",
       "       [   0,    0,    0, ...,   51, 1097, 1098],\n",
       "       [   0,    0,    0, ..., 1097, 1098,  238],\n",
       "       [   0,    0,    0, ..., 1098,  238,    3]])"
      ]
     },
     "execution_count": 23,
     "metadata": {},
     "output_type": "execute_result"
    }
   ],
   "source": [
    "X"
   ]
  },
  {
   "cell_type": "code",
   "execution_count": 25,
   "metadata": {
    "id": "n9TUk45M1Ifw",
    "tags": []
   },
   "outputs": [
    {
     "name": "stdout",
     "output_type": "stream",
     "text": [
      "Epoch 1/20\n",
      "\u001b[1m115/115\u001b[0m \u001b[32m━━━━━━━━━━━━━━━━━━━━\u001b[0m\u001b[37m\u001b[0m \u001b[1m15s\u001b[0m 127ms/step - accuracy: 0.0572 - loss: 5.6491\n",
      "Epoch 2/20\n",
      "\u001b[1m115/115\u001b[0m \u001b[32m━━━━━━━━━━━━━━━━━━━━\u001b[0m\u001b[37m\u001b[0m \u001b[1m15s\u001b[0m 129ms/step - accuracy: 0.0649 - loss: 5.5204\n",
      "Epoch 3/20\n",
      "\u001b[1m115/115\u001b[0m \u001b[32m━━━━━━━━━━━━━━━━━━━━\u001b[0m\u001b[37m\u001b[0m \u001b[1m15s\u001b[0m 128ms/step - accuracy: 0.0710 - loss: 5.4003\n",
      "Epoch 4/20\n",
      "\u001b[1m115/115\u001b[0m \u001b[32m━━━━━━━━━━━━━━━━━━━━\u001b[0m\u001b[37m\u001b[0m \u001b[1m15s\u001b[0m 127ms/step - accuracy: 0.0902 - loss: 5.2438\n",
      "Epoch 5/20\n",
      "\u001b[1m115/115\u001b[0m \u001b[32m━━━━━━━━━━━━━━━━━━━━\u001b[0m\u001b[37m\u001b[0m \u001b[1m15s\u001b[0m 129ms/step - accuracy: 0.1018 - loss: 5.0721\n",
      "Epoch 6/20\n",
      "\u001b[1m115/115\u001b[0m \u001b[32m━━━━━━━━━━━━━━━━━━━━\u001b[0m\u001b[37m\u001b[0m \u001b[1m15s\u001b[0m 132ms/step - accuracy: 0.1067 - loss: 4.9126\n",
      "Epoch 7/20\n",
      "\u001b[1m115/115\u001b[0m \u001b[32m━━━━━━━━━━━━━━━━━━━━\u001b[0m\u001b[37m\u001b[0m \u001b[1m16s\u001b[0m 136ms/step - accuracy: 0.1238 - loss: 4.6461\n",
      "Epoch 8/20\n",
      "\u001b[1m115/115\u001b[0m \u001b[32m━━━━━━━━━━━━━━━━━━━━\u001b[0m\u001b[37m\u001b[0m \u001b[1m15s\u001b[0m 131ms/step - accuracy: 0.1403 - loss: 4.4833\n",
      "Epoch 9/20\n",
      "\u001b[1m115/115\u001b[0m \u001b[32m━━━━━━━━━━━━━━━━━━━━\u001b[0m\u001b[37m\u001b[0m \u001b[1m15s\u001b[0m 132ms/step - accuracy: 0.1475 - loss: 4.3095\n",
      "Epoch 10/20\n",
      "\u001b[1m115/115\u001b[0m \u001b[32m━━━━━━━━━━━━━━━━━━━━\u001b[0m\u001b[37m\u001b[0m \u001b[1m15s\u001b[0m 133ms/step - accuracy: 0.1546 - loss: 4.1856\n",
      "Epoch 11/20\n",
      "\u001b[1m115/115\u001b[0m \u001b[32m━━━━━━━━━━━━━━━━━━━━\u001b[0m\u001b[37m\u001b[0m \u001b[1m15s\u001b[0m 132ms/step - accuracy: 0.2003 - loss: 3.9582\n",
      "Epoch 12/20\n",
      "\u001b[1m115/115\u001b[0m \u001b[32m━━━━━━━━━━━━━━━━━━━━\u001b[0m\u001b[37m\u001b[0m \u001b[1m15s\u001b[0m 130ms/step - accuracy: 0.2044 - loss: 3.8081\n",
      "Epoch 13/20\n",
      "\u001b[1m115/115\u001b[0m \u001b[32m━━━━━━━━━━━━━━━━━━━━\u001b[0m\u001b[37m\u001b[0m \u001b[1m15s\u001b[0m 133ms/step - accuracy: 0.2160 - loss: 3.6678\n",
      "Epoch 14/20\n",
      "\u001b[1m115/115\u001b[0m \u001b[32m━━━━━━━━━━━━━━━━━━━━\u001b[0m\u001b[37m\u001b[0m \u001b[1m15s\u001b[0m 133ms/step - accuracy: 0.2533 - loss: 3.4607\n",
      "Epoch 15/20\n",
      "\u001b[1m115/115\u001b[0m \u001b[32m━━━━━━━━━━━━━━━━━━━━\u001b[0m\u001b[37m\u001b[0m \u001b[1m15s\u001b[0m 134ms/step - accuracy: 0.2953 - loss: 3.3108\n",
      "Epoch 16/20\n",
      "\u001b[1m115/115\u001b[0m \u001b[32m━━━━━━━━━━━━━━━━━━━━\u001b[0m\u001b[37m\u001b[0m \u001b[1m15s\u001b[0m 133ms/step - accuracy: 0.3340 - loss: 3.1152\n",
      "Epoch 17/20\n",
      "\u001b[1m115/115\u001b[0m \u001b[32m━━━━━━━━━━━━━━━━━━━━\u001b[0m\u001b[37m\u001b[0m \u001b[1m15s\u001b[0m 129ms/step - accuracy: 0.3657 - loss: 2.9406\n",
      "Epoch 18/20\n",
      "\u001b[1m115/115\u001b[0m \u001b[32m━━━━━━━━━━━━━━━━━━━━\u001b[0m\u001b[37m\u001b[0m \u001b[1m15s\u001b[0m 131ms/step - accuracy: 0.4073 - loss: 2.7856\n",
      "Epoch 19/20\n",
      "\u001b[1m115/115\u001b[0m \u001b[32m━━━━━━━━━━━━━━━━━━━━\u001b[0m\u001b[37m\u001b[0m \u001b[1m15s\u001b[0m 129ms/step - accuracy: 0.4337 - loss: 2.6790\n",
      "Epoch 20/20\n",
      "\u001b[1m115/115\u001b[0m \u001b[32m━━━━━━━━━━━━━━━━━━━━\u001b[0m\u001b[37m\u001b[0m \u001b[1m15s\u001b[0m 127ms/step - accuracy: 0.4714 - loss: 2.5523\n"
     ]
    },
    {
     "data": {
      "text/plain": [
       "<keras.src.callbacks.history.History at 0x23090035310>"
      ]
     },
     "execution_count": 25,
     "metadata": {},
     "output_type": "execute_result"
    }
   ],
   "source": [
    "model.fit(X, y, epochs=20)"
   ]
  },
  {
   "cell_type": "code",
   "execution_count": 26,
   "metadata": {
    "colab": {
     "base_uri": "https://localhost:8080/"
    },
    "id": "WpR_uwe_3Iex",
    "outputId": "7bd6b0a7-5043-4cbb-aa85-60414f59efa1",
    "tags": []
   },
   "outputs": [
    {
     "name": "stdout",
     "output_type": "stream",
     "text": [
      "[[  0   0   0   0   0   0   0   0   0   0   0   0   0   0   0   0   0   0\n",
      "    0   0   0   0   0   0   0   0   0   0   0   0   0   0   0   0   0   0\n",
      "    0   0   0   0   0   0   0   0   0   0   0   0   0   0   0   0   0   0\n",
      "    0   0   0   0   0   0   0   0   0   0   0   0   0   0   0   0   0   0\n",
      "    0   0   0   0   0   0   0   0   0   0   0   0   0   0   0   0   0   0\n",
      "    0   0   0   0   0   0   0   0   0   0   0   0   0   0   0   0   0   0\n",
      "    0   0   0   0   0   0   0   0   0   0   0   0   0   0   0   0   0   0\n",
      "    0   0   0   0   0   0   0   0   0   0   0   0   0   0   0   0   0   0\n",
      "    0   0   0   0   0   0   0   0   0   0   0   0   0   0   0   0   0   0\n",
      "    0   0   0   0   0   0   0   0   0   0   0   0   0   0   0   0   0   0\n",
      "    0   0   0   0   0   0   0   0   0   0   0   0   0   0   0   0   0   0\n",
      "    0   0   0   0   0   0   0   0   0   0   0   0   0   0   0   0   0   0\n",
      "    0   0   0   0   0   0   0   0   0   0   0   0 251  21]]\n"
     ]
    }
   ],
   "source": [
    "test = 'Do you love '\n",
    "\n",
    "token_test = tokenizer.texts_to_sequences([test])[0]\n",
    "padded_token_test = pad_sequences([token_test], maxlen=230, padding='pre')\n",
    "\n",
    "print(padded_token_test)"
   ]
  },
  {
   "cell_type": "code",
   "execution_count": 27,
   "metadata": {
    "colab": {
     "base_uri": "https://localhost:8080/"
    },
    "id": "PxUSSeIe4MBT",
    "outputId": "f4802a91-fe12-4c4b-8898-d2e6638dc2bc",
    "tags": []
   },
   "outputs": [
    {
     "name": "stdout",
     "output_type": "stream",
     "text": [
      "\u001b[1m1/1\u001b[0m \u001b[32m━━━━━━━━━━━━━━━━━━━━\u001b[0m\u001b[37m\u001b[0m \u001b[1m0s\u001b[0m 187ms/step\n"
     ]
    }
   ],
   "source": [
    "model.predict(padded_token_test)\n",
    "import numpy as np"
   ]
  },
  {
   "cell_type": "code",
   "execution_count": 28,
   "metadata": {
    "colab": {
     "base_uri": "https://localhost:8080/"
    },
    "id": "KcGp4LgA4YgA",
    "outputId": "1a7fed4e-1dd2-4824-a701-718826bb98aa",
    "tags": []
   },
   "outputs": [
    {
     "name": "stdout",
     "output_type": "stream",
     "text": [
      "\u001b[1m1/1\u001b[0m \u001b[32m━━━━━━━━━━━━━━━━━━━━\u001b[0m\u001b[37m\u001b[0m \u001b[1m0s\u001b[0m 36ms/step\n"
     ]
    }
   ],
   "source": [
    "pos = np.argmax(model.predict(padded_token_test))"
   ]
  },
  {
   "cell_type": "code",
   "execution_count": 29,
   "metadata": {
    "colab": {
     "base_uri": "https://localhost:8080/"
    },
    "id": "EVZph1q64dvl",
    "outputId": "68bcc82a-86cc-4b0c-cd2b-1b18fea36e26",
    "tags": []
   },
   "outputs": [
    {
     "name": "stdout",
     "output_type": "stream",
     "text": [
      "i\n"
     ]
    }
   ],
   "source": [
    "for word, index in tokenizer.word_index.items():\n",
    "  if index == pos:\n",
    "    print(word)"
   ]
  },
  {
   "cell_type": "code",
   "execution_count": 30,
   "metadata": {
    "id": "rct5QHam6F2v",
    "tags": []
   },
   "outputs": [],
   "source": [
    "test = 'I found the couple at tea beneath their'"
   ]
  },
  {
   "cell_type": "code",
   "execution_count": 31,
   "metadata": {
    "colab": {
     "base_uri": "https://localhost:8080/"
    },
    "id": "JC3xaeWj4nnK",
    "outputId": "c3ba54d1-0d28-4905-89b9-c76537378194",
    "tags": []
   },
   "outputs": [
    {
     "name": "stdout",
     "output_type": "stream",
     "text": [
      "\u001b[1m1/1\u001b[0m \u001b[32m━━━━━━━━━━━━━━━━━━━━\u001b[0m\u001b[37m\u001b[0m \u001b[1m0s\u001b[0m 40ms/step\n",
      "I found the couple at tea beneath their palm\n",
      "\u001b[1m1/1\u001b[0m \u001b[32m━━━━━━━━━━━━━━━━━━━━\u001b[0m\u001b[37m\u001b[0m \u001b[1m0s\u001b[0m 35ms/step\n",
      "I found the couple at tea beneath their palm trees\n",
      "\u001b[1m1/1\u001b[0m \u001b[32m━━━━━━━━━━━━━━━━━━━━\u001b[0m\u001b[37m\u001b[0m \u001b[1m0s\u001b[0m 31ms/step\n",
      "I found the couple at tea beneath their palm trees and\n",
      "\u001b[1m1/1\u001b[0m \u001b[32m━━━━━━━━━━━━━━━━━━━━\u001b[0m\u001b[37m\u001b[0m \u001b[1m0s\u001b[0m 35ms/step\n",
      "I found the couple at tea beneath their palm trees and get\n",
      "\u001b[1m1/1\u001b[0m \u001b[32m━━━━━━━━━━━━━━━━━━━━\u001b[0m\u001b[37m\u001b[0m \u001b[1m0s\u001b[0m 33ms/step\n",
      "I found the couple at tea beneath their palm trees and get it\n",
      "\u001b[1m1/1\u001b[0m \u001b[32m━━━━━━━━━━━━━━━━━━━━\u001b[0m\u001b[37m\u001b[0m \u001b[1m0s\u001b[0m 40ms/step\n",
      "I found the couple at tea beneath their palm trees and get it was\n",
      "\u001b[1m1/1\u001b[0m \u001b[32m━━━━━━━━━━━━━━━━━━━━\u001b[0m\u001b[37m\u001b[0m \u001b[1m0s\u001b[0m 38ms/step\n",
      "I found the couple at tea beneath their palm trees and get it was the\n",
      "\u001b[1m1/1\u001b[0m \u001b[32m━━━━━━━━━━━━━━━━━━━━\u001b[0m\u001b[37m\u001b[0m \u001b[1m0s\u001b[0m 36ms/step\n",
      "I found the couple at tea beneath their palm trees and get it was the picture\n",
      "\u001b[1m1/1\u001b[0m \u001b[32m━━━━━━━━━━━━━━━━━━━━\u001b[0m\u001b[37m\u001b[0m \u001b[1m0s\u001b[0m 37ms/step\n",
      "I found the couple at tea beneath their palm trees and get it was the picture for\n",
      "\u001b[1m1/1\u001b[0m \u001b[32m━━━━━━━━━━━━━━━━━━━━\u001b[0m\u001b[37m\u001b[0m \u001b[1m0s\u001b[0m 31ms/step\n",
      "I found the couple at tea beneath their palm trees and get it was the picture for mrs\n"
     ]
    }
   ],
   "source": [
    "for i in range(10):\n",
    "  token_text = tokenizer.texts_to_sequences([test])[0]\n",
    "  padded_token_test = pad_sequences([token_text], maxlen=230, padding='pre')\n",
    "  pos = np.argmax(model.predict(padded_token_test))\n",
    "  for word, index in tokenizer.word_index.items():\n",
    "    if index == pos:\n",
    "      test = test + \" \" + word\n",
    "      print(test)\n",
    "      time.sleep(1)"
   ]
  },
  {
   "cell_type": "code",
   "execution_count": null,
   "metadata": {
    "colab": {
     "base_uri": "https://localhost:8080/"
    },
    "id": "f3MPtjrm6BZ0",
    "outputId": "b6704d2e-9ab4-44d2-8349-f497a5b3f557",
    "tags": []
   },
   "outputs": [],
   "source": [
    "model.save('lstm_model.h5')"
   ]
  },
  {
   "cell_type": "markdown",
   "metadata": {
    "id": "vBwoX9efCQxg"
   },
   "source": [
    "Majority of the following code is GPT generated as I didnt know shit about such cool things like Gradio and tho this part is mainly copied, I would definetly make sure to learn more about it and\" use it in some future project that i might get a chance to work on"
   ]
  },
  {
   "cell_type": "code",
   "execution_count": null,
   "metadata": {
    "tags": []
   },
   "outputs": [],
   "source": [
    "!pip uninstall h5py\n",
    "\n",
    "!pip install h5py==3.4"
   ]
  },
  {
   "cell_type": "code",
   "execution_count": null,
   "metadata": {
    "colab": {
     "base_uri": "https://localhost:8080/",
     "height": 611
    },
    "id": "UpTCLPhA_Zzl",
    "outputId": "a5493ccc-b0fe-461b-fc18-cebdcb4c4f22",
    "tags": []
   },
   "outputs": [],
   "source": [
    "import gradio as gr\n",
    "import tensorflow as tf\n",
    "from tensorflow.keras.models import load_model\n",
    "import numpy as np\n",
    "\n",
    "# Load the pre-trained LSTM model\n",
    "model = load_model('/content/lstm_model.h5')\n",
    "\n",
    "# Define a function for model prediction\n",
    "def predict(query, num_words):\n",
    "    # Preprocess the input query\n",
    "    test = query\n",
    "    # Generate the predicted sequence\n",
    "    for _ in range(int(num_words)):\n",
    "        token_text = tokenizer.texts_to_sequences([test])[0]\n",
    "        padded_token_test = pad_sequences([token_text], maxlen=230, padding='pre')\n",
    "        pos = np.argmax(model.predict(padded_token_test))\n",
    "        for word, index in tokenizer.word_index.items():\n",
    "          if index == pos:\n",
    "            test = test + \" \" + word\n",
    "    return test\n",
    "\n",
    "\n",
    "\n",
    "        # Reshape the input sequence\n",
    "    #     input_seq_reshaped = input_seq.reshape(1, -1, 1)\n",
    "\n",
    "    #     # Predict the next word\n",
    "    #     predicted_word = model.predict(input_seq_reshaped)\n",
    "\n",
    "    #     # Append the predicted word to the input sequence\n",
    "    #     input_seq = np.append(input_seq, predicted_word)\n",
    "\n",
    "    # # Postprocess the output sequence\n",
    "    # predicted_sentence = postprocess_sequence(input_seq)\n",
    "\n",
    "\n",
    "# Define a function to preprocess the input query\n",
    "def preprocess_query(query):\n",
    "    # Tokenize and preprocess the query as required by your model\n",
    "    # Example: convert query to a numerical sequence\n",
    "    sequence = np.array([ord(char) for char in query])\n",
    "    return sequence\n",
    "\n",
    "# Define a function to postprocess the output sequence\n",
    "def postprocess_sequence(sequence):\n",
    "    # Convert the numerical sequence back to text\n",
    "    sentence = ''.join([chr(int(num)) for num in sequence])\n",
    "    return sentence\n",
    "\n",
    "# Define the Gradio interface\n",
    "iface = gr.Interface(\n",
    "    fn=predict,\n",
    "    inputs=[\n",
    "        gr.Textbox(lines=2, placeholder=\"Enter input query here...\"),\n",
    "        gr.Slider(minimum=1, maximum=100, step=1, label=\"Number of words to predict\")\n",
    "    ],\n",
    "    outputs=\"text\",\n",
    "    title=\"LSTM Text Generation\",\n",
    "    description=\"Enter a query and the number of words to predict. The model will return the complete sentence.\"\n",
    ")\n",
    "\n",
    "# Launch the Gradio app\n",
    "iface.launch(share=True)\n"
   ]
  },
  {
   "cell_type": "code",
   "execution_count": null,
   "metadata": {
    "tags": []
   },
   "outputs": [],
   "source": [
    "import pickle\n",
    "\n",
    "# Assuming `tokenizer` is your tokenizer object\n",
    "with open('week 1/tokenizer.pkl', 'wb') as handle:\n",
    "    pickle.dump(tokenizer, handle, protocol=pickle.HIGHEST_PROTOCOL)\n"
   ]
  },
  {
   "cell_type": "code",
   "execution_count": null,
   "metadata": {},
   "outputs": [],
   "source": []
  }
 ],
 "metadata": {
  "accelerator": "GPU",
  "colab": {
   "gpuType": "T4",
   "provenance": []
  },
  "kernelspec": {
   "display_name": "Python 3 (ipykernel)",
   "language": "python",
   "name": "python3"
  },
  "language_info": {
   "codemirror_mode": {
    "name": "ipython",
    "version": 3
   },
   "file_extension": ".py",
   "mimetype": "text/x-python",
   "name": "python",
   "nbconvert_exporter": "python",
   "pygments_lexer": "ipython3",
   "version": "3.11.5"
  }
 },
 "nbformat": 4,
 "nbformat_minor": 4
}
